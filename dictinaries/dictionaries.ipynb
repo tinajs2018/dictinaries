{
 "cells": [
  {
   "cell_type": "code",
   "execution_count": 84,
   "metadata": {},
   "outputs": [
    {
     "data": {
      "text/plain": [
       "{'math': 12, 'English': 23, 'socail': 24, 'science': 98}"
      ]
     },
     "execution_count": 84,
     "metadata": {},
     "output_type": "execute_result"
    }
   ],
   "source": [
    "key_elements={'math':12,'English':23,'socail':24,'science':98}\n",
    "key_elements"
   ]
  },
  {
   "cell_type": "code",
   "execution_count": 85,
   "metadata": {},
   "outputs": [
    {
     "data": {
      "text/plain": [
       "12"
      ]
     },
     "execution_count": 85,
     "metadata": {},
     "output_type": "execute_result"
    }
   ],
   "source": [
    "key_elements['math']"
   ]
  },
  {
   "cell_type": "code",
   "execution_count": 86,
   "metadata": {},
   "outputs": [
    {
     "data": {
      "text/plain": [
       "98"
      ]
     },
     "execution_count": 86,
     "metadata": {},
     "output_type": "execute_result"
    }
   ],
   "source": [
    "score= key_elements.get('science')\n",
    "score"
   ]
  },
  {
   "cell_type": "code",
   "execution_count": 87,
   "metadata": {},
   "outputs": [],
   "source": [
    "key_elements['Basic math']=45\n",
    "key_elements['Econometrics']=98"
   ]
  },
  {
   "cell_type": "code",
   "execution_count": 88,
   "metadata": {},
   "outputs": [
    {
     "data": {
      "text/plain": [
       "{'math': 12,\n",
       " 'English': 23,\n",
       " 'socail': 24,\n",
       " 'science': 98,\n",
       " 'Basic math': 45,\n",
       " 'Econometrics': 98}"
      ]
     },
     "execution_count": 88,
     "metadata": {},
     "output_type": "execute_result"
    }
   ],
   "source": [
    "key_elements"
   ]
  },
  {
   "cell_type": "code",
   "execution_count": 89,
   "metadata": {},
   "outputs": [
    {
     "data": {
      "text/plain": [
       "{'methods': 'kristine  karimi',\n",
       " 'econometris': 'tabitha mugai',\n",
       " 'Stocastics': 'Hannah macharia'}"
      ]
     },
     "execution_count": 89,
     "metadata": {},
     "output_type": "execute_result"
    }
   ],
   "source": [
    "best_students={}\n",
    "best_students['methods']='kristine  karimi'\n",
    "best_students['econometris']='tabitha mugai'\n",
    "best_students['Stocastics']='Hannah macharia'\n",
    "best_students"
   ]
  },
  {
   "cell_type": "code",
   "execution_count": 90,
   "metadata": {},
   "outputs": [
    {
     "data": {
      "text/plain": [
       "{'methods': 'kristine  karimi',\n",
       " 'econometris': 'tabitha mugai',\n",
       " 'Stocastics': 'kristine karimi'}"
      ]
     },
     "execution_count": 90,
     "metadata": {},
     "output_type": "execute_result"
    }
   ],
   "source": [
    "best_students['Stocastics']='kristine karimi'\n",
    "best_students"
   ]
  },
  {
   "cell_type": "code",
   "execution_count": 91,
   "metadata": {},
   "outputs": [
    {
     "data": {
      "text/plain": [
       "{'econometris': 'tabitha mugai', 'Stocastics': 'kristine karimi'}"
      ]
     },
     "execution_count": 91,
     "metadata": {},
     "output_type": "execute_result"
    }
   ],
   "source": [
    "del best_students['methods']\n",
    "best_students"
   ]
  },
  {
   "cell_type": "code",
   "execution_count": 92,
   "metadata": {},
   "outputs": [
    {
     "name": "stdout",
     "output_type": "stream",
     "text": [
      "data science\n",
      "machine learning\n",
      "web\n",
      "backend\n"
     ]
    }
   ],
   "source": [
    "fav_lang={\n",
    "    'data science': 'python',\n",
    "    'machine learning':'syp',\n",
    "    'web':'javascript',\n",
    "    'backend':'Php'\n",
    "}\n",
    "for best_languages in fav_lang:\n",
    "    print(best_languages)"
   ]
  },
  {
   "cell_type": "code",
   "execution_count": 93,
   "metadata": {},
   "outputs": [
    {
     "name": "stdout",
     "output_type": "stream",
     "text": [
      "python Best tecnologies in data science\n",
      "syp Best tecnologies in machine learning\n",
      "javascript Best tecnologies in web\n",
      "Php Best tecnologies in backend\n"
     ]
    }
   ],
   "source": [
    "for  name,language in  fav_lang.items():\n",
    "    print( language + \" Best tecnologies in \" + name)"
   ]
  },
  {
   "cell_type": "code",
   "execution_count": 94,
   "metadata": {},
   "outputs": [
    {
     "name": "stdout",
     "output_type": "stream",
     "text": [
      "data science\n",
      "machine learning\n",
      "web\n",
      "backend\n"
     ]
    }
   ],
   "source": [
    "for name in fav_lang.keys():\n",
    "    print(name)"
   ]
  },
  {
   "cell_type": "code",
   "execution_count": 95,
   "metadata": {},
   "outputs": [
    {
     "name": "stdout",
     "output_type": "stream",
     "text": [
      "python\n",
      "syp\n",
      "javascript\n",
      "Php\n"
     ]
    }
   ],
   "source": [
    "for tech in fav_lang.values():\n",
    "    print(tech)"
   ]
  },
  {
   "cell_type": "code",
   "execution_count": 96,
   "metadata": {},
   "outputs": [
    {
     "name": "stdout",
     "output_type": "stream",
     "text": [
      "backend\n",
      "data science\n",
      "machine learning\n",
      "web\n"
     ]
    }
   ],
   "source": [
    "for tech in sorted(fav_lang.keys()):\n",
    "    print(tech)"
   ]
  },
  {
   "cell_type": "code",
   "execution_count": 97,
   "metadata": {},
   "outputs": [
    {
     "name": "stdout",
     "output_type": "stream",
     "text": [
      "Php\n",
      "javascript\n",
      "python\n",
      "syp\n"
     ]
    }
   ],
   "source": [
    "for tech in sorted(fav_lang.values()):\n",
    "    print(tech)"
   ]
  },
  {
   "cell_type": "code",
   "execution_count": 98,
   "metadata": {},
   "outputs": [
    {
     "data": {
      "text/plain": [
       "4"
      ]
     },
     "execution_count": 98,
     "metadata": {},
     "output_type": "execute_result"
    }
   ],
   "source": [
    "lenght=len(fav_lang)\n",
    "lenght"
   ]
  },
  {
   "cell_type": "code",
   "execution_count": 99,
   "metadata": {},
   "outputs": [
    {
     "data": {
      "text/plain": [
       "[{'maggi': 12, 'lydia': 23, 'jane': 90},\n",
       " {'johh': 87, 'paul': 34, 'martin': 35}]"
      ]
     },
     "execution_count": 99,
     "metadata": {},
     "output_type": "execute_result"
    }
   ],
   "source": [
    "#Nesting a  list\n",
    "users=[]\n",
    "user1={\n",
    "    'maggi':12,\n",
    "    'lydia':23,\n",
    "    'jane':90\n",
    "}\n",
    "users.append(user1)\n",
    "user2={\n",
    "    'johh':87,\n",
    "    'paul':34,\n",
    "    'martin':35\n",
    "}\n",
    "users.append(user2)\n",
    "users"
   ]
  },
  {
   "cell_type": "code",
   "execution_count": 101,
   "metadata": {},
   "outputs": [
    {
     "name": "stdout",
     "output_type": "stream",
     "text": [
      "maggi  always  pleasure serving you \n",
      "lydia  always  pleasure serving you \n",
      "jane  always  pleasure serving you \n",
      "johh  always  pleasure serving you \n",
      "paul  always  pleasure serving you \n",
      "martin  always  pleasure serving you \n"
     ]
    }
   ],
   "source": [
    "for loyal in users:\n",
    "    for p,y in loyal .items():\n",
    "#     for k, v in loyal.items():\n",
    "            \n",
    "        print(p+ '  always  pleasure serving you ' )\n",
    "    \n",
    "    \n",
    "#     for user_dict in users:\n",
    "# for k, v in user_dict.items():"
   ]
  },
  {
   "cell_type": "code",
   "execution_count": 102,
   "metadata": {},
   "outputs": [
    {
     "data": {
      "text/plain": [
       "({'david': 'jkh', 'daniel': 'kbc', 'kim': 'ktn', 'eldin': 'jhkh'},)"
      ]
     },
     "execution_count": 102,
     "metadata": {},
     "output_type": "execute_result"
    }
   ],
   "source": [
    "cust={\n",
    "    'david':'jkh',\n",
    "    'daniel':'kbc',\n",
    "    'kim':'ktn',\n",
    "    'eldin':'jhkh'\n",
    "},\n",
    "{\n",
    "    'daisy':'hjjh',\n",
    "    'alex':'hhhshh',\n",
    "    'risyi':'ghggh'\n",
    "}\n",
    "cust"
   ]
  },
  {
   "cell_type": "code",
   "execution_count": 103,
   "metadata": {},
   "outputs": [
    {
     "ename": "TypeError",
     "evalue": "'int' object is not iterable",
     "output_type": "error",
     "traceback": [
      "\u001b[0;31m---------------------------------------------------------------------------\u001b[0m",
      "\u001b[0;31mTypeError\u001b[0m                                 Traceback (most recent call last)",
      "\u001b[0;32m<ipython-input-103-1f66b9064805>\u001b[0m in \u001b[0;36m<module>\u001b[0;34m\u001b[0m\n\u001b[1;32m      1\u001b[0m \u001b[0;32mfor\u001b[0m \u001b[0mstud\u001b[0m \u001b[0;32min\u001b[0m \u001b[0mcust\u001b[0m\u001b[0;34m:\u001b[0m\u001b[0;34m\u001b[0m\u001b[0;34m\u001b[0m\u001b[0m\n\u001b[1;32m      2\u001b[0m \u001b[0;31m#         for k, v in stud.items():\u001b[0m\u001b[0;34m\u001b[0m\u001b[0;34m\u001b[0m\u001b[0;34m\u001b[0m\u001b[0m\n\u001b[0;32m----> 3\u001b[0;31m        \u001b[0;32mfor\u001b[0m \u001b[0mmy\u001b[0m \u001b[0;32min\u001b[0m \u001b[0mv\u001b[0m\u001b[0;34m:\u001b[0m\u001b[0;34m\u001b[0m\u001b[0;34m\u001b[0m\u001b[0m\n\u001b[0m\u001b[1;32m      4\u001b[0m \u001b[0;34m\u001b[0m\u001b[0m\n\u001b[1;32m      5\u001b[0m            \u001b[0mprint\u001b[0m\u001b[0;34m(\u001b[0m \u001b[0mmy\u001b[0m \u001b[0;34m+\u001b[0m \u001b[0;34m'  is among the best'\u001b[0m\u001b[0;34m)\u001b[0m\u001b[0;34m\u001b[0m\u001b[0;34m\u001b[0m\u001b[0m\n",
      "\u001b[0;31mTypeError\u001b[0m: 'int' object is not iterable"
     ]
    }
   ],
   "source": [
    " for stud in cust:\n",
    "#         for k, v in stud.items():\n",
    "        for my in v:\n",
    "            \n",
    "            print( my + '  is among the best')"
   ]
  },
  {
   "cell_type": "code",
   "execution_count": 104,
   "metadata": {},
   "outputs": [
    {
     "data": {
      "text/plain": [
       "{'genre': ['fiction', 'myth', 'idelogoy'],\n",
       " ' bussines': ['robi', 'dan lok', 'zen'],\n",
       " 'scholar': ['modern chem', 'physics', 'statistics']}"
      ]
     },
     "execution_count": 104,
     "metadata": {},
     "output_type": "execute_result"
    }
   ],
   "source": [
    "books={\n",
    "    'genre':['fiction','myth','idelogoy'],\n",
    "   ' bussines':['robi','dan lok','zen'],\n",
    "    'scholar':['modern chem','physics','statistics']\n",
    "}\n",
    "books"
   ]
  },
  {
   "cell_type": "code",
   "execution_count": 105,
   "metadata": {},
   "outputs": [
    {
     "name": "stdout",
     "output_type": "stream",
     "text": [
      "genre are very popular \n",
      " bussines are very popular \n",
      "scholar are very popular \n"
     ]
    }
   ],
   "source": [
    "for b2 ,readers in books.items():\n",
    "    print( b2 + ' are very popular ' )\n",
    "    \n",
    "    "
   ]
  },
  {
   "cell_type": "code",
   "execution_count": 106,
   "metadata": {},
   "outputs": [
    {
     "name": "stdout",
     "output_type": "stream",
     "text": [
      "modern chem\n",
      "physics\n",
      "statistics\n"
     ]
    }
   ],
   "source": [
    "for authors in readers:\n",
    "    print(authors)"
   ]
  },
  {
   "cell_type": "code",
   "execution_count": 113,
   "metadata": {},
   "outputs": [
    {
     "data": {
      "text/plain": [
       "{'stati': {'maggi': 23, 'jane': 3},\n",
       " 'econ': {'daniel': 45, 'tabby': 45},\n",
       " 'acturail': {'ron': 97, 'james': 56}}"
      ]
     },
     "execution_count": 113,
     "metadata": {},
     "output_type": "execute_result"
    }
   ],
   "source": [
    "students={\n",
    "    'stati':{\n",
    "        'maggi':23,\n",
    "        'jane':3\n",
    "    },\n",
    "    'econ':{\n",
    "        'daniel':45,\n",
    "        'tabby':45\n",
    "    },\n",
    "    'acturail':{\n",
    "        'ron':97,\n",
    "        'james':56\n",
    "    }\n",
    "    \n",
    "}\n",
    "students"
   ]
  },
  {
   "cell_type": "code",
   "execution_count": 116,
   "metadata": {},
   "outputs": [
    {
     "name": "stdout",
     "output_type": "stream",
     "text": [
      "The best course in the campus stati\n",
      "The best course in the campus econ\n",
      "The best course in the campus acturail\n"
     ]
    }
   ],
   "source": [
    "for course,names in students.items():\n",
    "    print('The best course in the campus ' + course)"
   ]
  },
  {
   "cell_type": "code",
   "execution_count": 118,
   "metadata": {},
   "outputs": [
    {
     "name": "stdout",
     "output_type": "stream",
     "text": [
      "The best students in the campus jane\n",
      "The best students in the campus tabby\n",
      "The best students in the campus james\n"
     ]
    }
   ],
   "source": [
    "for course,names in students.values():\n",
    "    print('The best students in the campus ' + names)"
   ]
  },
  {
   "cell_type": "code",
   "execution_count": 120,
   "metadata": {},
   "outputs": [
    {
     "name": "stdout",
     "output_type": "stream",
     "text": [
      "The best course in the campus jane\n",
      "The best course in the campus tabby\n",
      "The best course in the campus james\n"
     ]
    }
   ],
   "source": [
    "for course,names in students.values():\n",
    "    print('The best course in the campus ' + names)"
   ]
  },
  {
   "cell_type": "code",
   "execution_count": null,
   "metadata": {},
   "outputs": [],
   "source": []
  }
 ],
 "metadata": {
  "kernelspec": {
   "display_name": "Python 3",
   "language": "python",
   "name": "python3"
  },
  "language_info": {
   "codemirror_mode": {
    "name": "ipython",
    "version": 3
   },
   "file_extension": ".py",
   "mimetype": "text/x-python",
   "name": "python",
   "nbconvert_exporter": "python",
   "pygments_lexer": "ipython3",
   "version": "3.7.4"
  }
 },
 "nbformat": 4,
 "nbformat_minor": 2
}
